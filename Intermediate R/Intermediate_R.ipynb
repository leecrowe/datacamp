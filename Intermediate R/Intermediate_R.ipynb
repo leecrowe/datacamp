{
  "nbformat": 4,
  "nbformat_minor": 0,
  "metadata": {
    "colab": {
      "name": "Intermediate R.ipynb",
      "provenance": []
    },
    "kernelspec": {
      "name": "python3",
      "display_name": "Python 3"
    },
    "language_info": {
      "name": "python"
    }
  },
  "cells": [
    {
      "cell_type": "code",
      "execution_count": null,
      "metadata": {
        "id": "I8vQ6JJzJjk7"
      },
      "outputs": [],
      "source": [
        "# Comparison of logicals\n",
        "TRUE == FALSE\n",
        "\n",
        "# Comparison of numerics\n",
        "-6 * 14 != 17 - 101\n",
        "\n",
        "# Comparison of character strings\n",
        "\"useR\" == \"user\"\n",
        "\n",
        "# Compare a logical with a numeric\n",
        "TRUE == 1"
      ]
    },
    {
      "cell_type": "code",
      "source": [
        "# Comparison of numerics\n",
        "-6 * 5 + 2 >= -10 + 1\n",
        "\n",
        "# Comparison of character strings\n",
        "\"raining\" <= \"raining dogs\"\n",
        "\n",
        "# Comparison of logicals\n",
        "TRUE > FALSE"
      ],
      "metadata": {
        "id": "RHyZCx3YJoyM"
      },
      "execution_count": null,
      "outputs": []
    },
    {
      "cell_type": "code",
      "source": [
        "# The linkedin and facebook vectors have already been created for you\n",
        "linkedin <- c(16, 9, 13, 5, 2, 17, 14)\n",
        "facebook <- c(17, 7, 5, 16, 8, 13, 14)\n",
        "\n",
        "# Popular days\n",
        "linkedin > 15\n",
        "\n",
        "# Quiet days\n",
        "linkedin <= 5\n",
        "\n",
        "# LinkedIn more popular than Facebook\n",
        "linkedin > facebook"
      ],
      "metadata": {
        "id": "sh2hocuWJovm"
      },
      "execution_count": null,
      "outputs": []
    },
    {
      "cell_type": "code",
      "source": [
        "# The social data has been created for you\n",
        "linkedin <- c(16, 9, 13, 5, 2, 17, 14)\n",
        "facebook <- c(17, 7, 5, 16, 8, 13, 14)\n",
        "views <- matrix(c(linkedin, facebook), nrow = 2, byrow = TRUE)\n",
        "\n",
        "# When does views equal 13?\n",
        "views == 13\n",
        "\n",
        "# When is views less than or equal to 14?\n",
        "views <= 14"
      ],
      "metadata": {
        "id": "f8GMSmQVJotG"
      },
      "execution_count": null,
      "outputs": []
    },
    {
      "cell_type": "code",
      "source": [
        "# The linkedin and last variable are already defined for you\n",
        "linkedin <- c(16, 9, 13, 5, 2, 17, 14)\n",
        "last <- tail(linkedin, 1)\n",
        "\n",
        "# Is last under 5 or above 10?\n",
        "last < 5 | last > 10\n",
        "\n",
        "# Is last between 15 (exclusive) and 20 (inclusive)?\n",
        "last > 15 & last <= 20"
      ],
      "metadata": {
        "id": "YNw2tFeBJoq1"
      },
      "execution_count": null,
      "outputs": []
    },
    {
      "cell_type": "code",
      "source": [
        "# The social data (linkedin, facebook, views) has been created for you\n",
        "\n",
        "# linkedin exceeds 10 but facebook below 10\n",
        "linkedin > 10 & facebook < 10\n",
        "\n",
        "# When were one or both visited at least 12 times?\n",
        "linkedin >= 12 | facebook >= 12\n",
        "\n",
        "# When is views between 11 (exclusive) and 14 (inclusive)?\n",
        "views > 11 & views <= 14"
      ],
      "metadata": {
        "id": "Mjh2P5zJJood"
      },
      "execution_count": null,
      "outputs": []
    },
    {
      "cell_type": "code",
      "source": [
        "# li_df is pre-loaded in your workspace\n",
        "\n",
        "# Select the second column, named day2, from li_df: second\n",
        "second <- li_df[, 2]\n",
        "\n",
        "# Build a logical vector, TRUE if value in second is extreme: extremes\n",
        "extremes <- second > 25 | second < 5\n",
        "\n",
        "# Count the number of TRUEs in extremes\n",
        "sum(extremes)"
      ],
      "metadata": {
        "id": "1A8g2rBZJomN"
      },
      "execution_count": null,
      "outputs": []
    },
    {
      "cell_type": "code",
      "source": [
        "# Variables related to your last day of recordings\n",
        "medium <- \"LinkedIn\"\n",
        "num_views <- 14\n",
        "\n",
        "# Examine the if statement for medium\n",
        "if (medium == \"LinkedIn\") {\n",
        "  print(\"Showing LinkedIn information\")\n",
        "}\n",
        "\n",
        "# Write the if statement for num_views\n",
        "if (num_views > 15) {\n",
        "  print(\"You are popular!\")\n",
        "}"
      ],
      "metadata": {
        "id": "iZuu8m2tJojm"
      },
      "execution_count": null,
      "outputs": []
    },
    {
      "cell_type": "code",
      "source": [
        "# Variables related to your last day of recordings\n",
        "medium <- \"LinkedIn\"\n",
        "num_views <- 14\n",
        "\n",
        "# Control structure for medium\n",
        "if (medium == \"LinkedIn\") {\n",
        "  print(\"Showing LinkedIn information\")\n",
        "} else {\n",
        "  print(\"Unknown medium\")\n",
        "}\n",
        "\n",
        "# Control structure for num_views\n",
        "if (num_views > 15) {\n",
        "  print(\"You're popular!\")\n",
        "} else {\n",
        "  print(\"Try to be more visible!\")\n",
        "}"
      ],
      "metadata": {
        "id": "rcEw7lGdJofF"
      },
      "execution_count": null,
      "outputs": []
    },
    {
      "cell_type": "code",
      "source": [
        "# Variables related to your last day of recordings\n",
        "medium <- \"LinkedIn\"\n",
        "num_views <- 14\n",
        "\n",
        "# Control structure for medium\n",
        "if (medium == \"LinkedIn\") {\n",
        "  print(\"Showing LinkedIn information\")\n",
        "} else if (medium == \"Facebook\") {\n",
        "  \n",
        "  # Add code to print correct string when condition is TRUE\n",
        "  print(\"Showing Facebook information\")\n",
        "} else {\n",
        "  print(\"Unknown medium\")\n",
        "}\n",
        "\n",
        "# Control structure for num_views\n",
        "if (num_views > 15) {\n",
        "  print(\"You're popular!\")\n",
        "} else if (num_views <= 15 & num_views > 10) {\n",
        "\n",
        "  # Add code to print correct string when condition is TRUE\n",
        "  print(\"Your number of views is average\")\n",
        "} else {\n",
        "  print(\"Try to be more visible!\")\n",
        "}"
      ],
      "metadata": {
        "id": "1UirlcL1Bpkq"
      },
      "execution_count": null,
      "outputs": []
    },
    {
      "cell_type": "code",
      "source": [
        "# Variables related to your last day of recordings\n",
        "li <- 15\n",
        "fb <- 9\n",
        "\n",
        "# Code the control-flow construct\n",
        "if (li >= 15 & fb >= 15) {\n",
        "  sms <- 2 * (li + fb)\n",
        "} else if (li < 10 & fb < 10) {\n",
        "  sms <- 0.5 * (li + fb)\n",
        "} else {\n",
        "  sms <- li + fb\n",
        "}\n",
        "\n",
        "# Print the resulting sms to the console\n",
        "sms"
      ],
      "metadata": {
        "id": "KcAE2KREBpiC"
      },
      "execution_count": null,
      "outputs": []
    }
  ]
}