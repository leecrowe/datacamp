{
  "nbformat": 4,
  "nbformat_minor": 0,
  "metadata": {
    "colab": {
      "name": "Introduction to R.ipynb",
      "provenance": []
    },
    "kernelspec": {
      "name": "python3",
      "display_name": "Python 3"
    },
    "language_info": {
      "name": "python"
    }
  },
  "cells": [
    {
      "cell_type": "code",
      "execution_count": null,
      "metadata": {
        "id": "RPI5nEFPPa_i"
      },
      "outputs": [],
      "source": [
        "# Calculate 3 + 4\n",
        "3 + 4\n",
        "\n",
        "# Calculate 6 + 12\n",
        "6 + 12"
      ]
    },
    {
      "cell_type": "code",
      "source": [
        "# An addition\n",
        "5 + 5 \n",
        "\n",
        "# A subtraction\n",
        "5 - 5 \n",
        "\n",
        "# A multiplication\n",
        "3 * 5\n",
        "\n",
        " # A division\n",
        "(5 + 5) / 2 \n",
        "\n",
        "# Exponentiation\n",
        "2 ^ 5\n",
        "\n",
        "# Modulo\n",
        "28 %% 6"
      ],
      "metadata": {
        "id": "-cU5hOPqPoP7"
      },
      "execution_count": null,
      "outputs": []
    },
    {
      "cell_type": "code",
      "source": [
        "# Assign the value 42 to x\n",
        "x <- 42\n",
        "\n",
        "# Print out the value of the variable x\n",
        "x"
      ],
      "metadata": {
        "id": "LrLYQstVPozS"
      },
      "execution_count": null,
      "outputs": []
    },
    {
      "cell_type": "code",
      "source": [
        "# Assign the value 5 to the variable my_apples\n",
        "my_apples <- 5\n",
        "\n",
        "# Print out the value of the variable my_apples\n",
        "my_apples"
      ],
      "metadata": {
        "id": "OByxMXBWPpCa"
      },
      "execution_count": null,
      "outputs": []
    },
    {
      "cell_type": "code",
      "source": [
        "# Assign a value to the variables my_apples and my_oranges\n",
        "my_apples <- 5\n",
        "my_oranges <- 6\n",
        "\n",
        "# Add these two variables together\n",
        "my_apples + my_oranges\n",
        "\n",
        "# Create the variable my_fruit\n",
        "my_fruit <- my_apples + my_oranges"
      ],
      "metadata": {
        "id": "Sv3djnlHPpQK"
      },
      "execution_count": null,
      "outputs": []
    },
    {
      "cell_type": "code",
      "source": [
        "# Assign a value to the variable my_apples\n",
        "my_apples <- 5 \n",
        "\n",
        "# Fix the assignment of my_oranges\n",
        "my_oranges <- 6\n",
        "\n",
        "# Create the variable my_fruit and print it out\n",
        "my_fruit <- my_apples + my_oranges \n",
        "my_fruit"
      ],
      "metadata": {
        "id": "GyTUfkI7QLMp"
      },
      "execution_count": null,
      "outputs": []
    },
    {
      "cell_type": "code",
      "source": [
        "# Change my_numeric to be 42\n",
        "my_numeric <- 42\n",
        "\n",
        "# Change my_character to be \"universe\"\n",
        "my_character <- \"universe\"\n",
        "\n",
        "# Change my_logical to be FALSE\n",
        "my_logical <- FALSE"
      ],
      "metadata": {
        "id": "DcVx2pFyQLYx"
      },
      "execution_count": null,
      "outputs": []
    },
    {
      "cell_type": "code",
      "source": [
        "# Declare variables of different types\n",
        "my_numeric <- 42\n",
        "my_character <- \"universe\"\n",
        "my_logical <- FALSE \n",
        "\n",
        "# Check class of my_numeric\n",
        "class(my_numeric)\n",
        "\n",
        "# Check class of my_character\n",
        "class(my_character)\n",
        "\n",
        "# Check class of my_logical\n",
        "class(my_logical)"
      ],
      "metadata": {
        "id": "w8fqc3HgQLp5"
      },
      "execution_count": null,
      "outputs": []
    },
    {
      "cell_type": "code",
      "source": [
        "# Define the variable vegas\n",
        "vegas <- \"Go!\""
      ],
      "metadata": {
        "id": "sWWmyvBKQUaq"
      },
      "execution_count": null,
      "outputs": []
    },
    {
      "cell_type": "code",
      "source": [
        "numeric_vector <- c(1, 10, 49)\n",
        "character_vector <- c(\"a\", \"b\", \"c\")\n",
        "\n",
        "# Complete the code for boolean_vector\n",
        "boolean_vector <- c(TRUE,FALSE, TRUE)"
      ],
      "metadata": {
        "id": "PnkqnodeQnZh"
      },
      "execution_count": null,
      "outputs": []
    },
    {
      "cell_type": "code",
      "source": [
        "# Poker winnings from Monday to Friday\n",
        "poker_vector <- c(140, -50, 20, -120, 240)\n",
        "\n",
        "# Roulette winnings from Monday to Friday\n",
        "roulette_vector <-  c(-24, -50, 100, -350, 10)"
      ],
      "metadata": {
        "id": "EoCuVDQxQnth"
      },
      "execution_count": null,
      "outputs": []
    },
    {
      "cell_type": "code",
      "source": [
        "# Poker winnings from Monday to Friday\n",
        "poker_vector <- c(140, -50, 20, -120, 240)\n",
        "\n",
        "# Roulette winnings from Monday to Friday\n",
        "roulette_vector <- c(-24, -50, 100, -350, 10)\n",
        "\n",
        "# Assign days as names of poker_vector\n",
        "names(poker_vector) <- c(\"Monday\", \"Tuesday\", \"Wednesday\", \"Thursday\", \"Friday\")\n",
        "\n",
        "# Assign days as names of roulette_vector\n",
        "names(roulette_vector) <- c(\"Monday\", \"Tuesday\", \"Wednesday\", \"Thursday\", \"Friday\")"
      ],
      "metadata": {
        "id": "UaoyF0wgRDsx"
      },
      "execution_count": null,
      "outputs": []
    },
    {
      "cell_type": "code",
      "source": [
        "# Poker winnings from Monday to Friday\n",
        "poker_vector <- c(140, -50, 20, -120, 240)\n",
        "\n",
        "# Roulette winnings from Monday to Friday\n",
        "roulette_vector <- c(-24, -50, 100, -350, 10)\n",
        "\n",
        "# The variable days_vector\n",
        "days_vector <- c(\"Monday\", \"Tuesday\", \"Wednesday\", \"Thursday\", \"Friday\")\n",
        " \n",
        "# Assign the names of the day to roulette_vector and poker_vector\n",
        "names(poker_vector) <- days_vector\n",
        "names(roulette_vector) <- days_vector"
      ],
      "metadata": {
        "id": "hPzsA4pTRPaw"
      },
      "execution_count": null,
      "outputs": []
    },
    {
      "cell_type": "code",
      "source": [
        "A_vector <- c(1, 2, 3)\n",
        "B_vector <- c(4, 5, 6)\n",
        "\n",
        "# Take the sum of A_vector and B_vector\n",
        "total_vector <- c(A_vector) + c(B_vector)\n",
        "  \n",
        "# Print out total_vector\n",
        "total_vector"
      ],
      "metadata": {
        "id": "QZvOQhNtRmyQ"
      },
      "execution_count": null,
      "outputs": []
    },
    {
      "cell_type": "code",
      "source": [
        "# Poker and roulette winnings from Monday to Friday:\n",
        "poker_vector <- c(140, -50, 20, -120, 240)\n",
        "roulette_vector <- c(-24, -50, 100, -350, 10)\n",
        "days_vector <- c(\"Monday\", \"Tuesday\", \"Wednesday\", \"Thursday\", \"Friday\")\n",
        "names(poker_vector) <- days_vector\n",
        "names(roulette_vector) <- days_vector\n",
        "\n",
        "# Assign to total_daily how much you won/lost on each day\n",
        "total_daily <- roulette_vector + poker_vector"
      ],
      "metadata": {
        "id": "-9mNNDOCRm-Y"
      },
      "execution_count": null,
      "outputs": []
    },
    {
      "cell_type": "code",
      "source": [
        "# Poker and roulette winnings from Monday to Friday:\n",
        "poker_vector <- c(140, -50, 20, -120, 240)\n",
        "roulette_vector <- c(-24, -50, 100, -350, 10)\n",
        "days_vector <- c(\"Monday\", \"Tuesday\", \"Wednesday\", \"Thursday\", \"Friday\")\n",
        "names(poker_vector) <- days_vector\n",
        "names(roulette_vector) <- days_vector\n",
        "\n",
        "# Total winnings with poker\n",
        "total_poker <- sum(poker_vector)\n",
        "\n",
        "# Total winnings with roulette\n",
        "total_roulette <- sum(roulette_vector)\n",
        "\n",
        "# Total winnings overall\n",
        "total_week <- sum(total_poker + total_roulette)\n",
        "\n",
        "# Print out total_week\n",
        "total_week"
      ],
      "metadata": {
        "id": "oIlsral1SKlw"
      },
      "execution_count": null,
      "outputs": []
    },
    {
      "cell_type": "code",
      "source": [
        "# Poker and roulette winnings from Monday to Friday:\n",
        "poker_vector <- c(140, -50, 20, -120, 240)\n",
        "roulette_vector <- c(-24, -50, 100, -350, 10)\n",
        "days_vector <- c(\"Monday\", \"Tuesday\", \"Wednesday\", \"Thursday\", \"Friday\")\n",
        "names(poker_vector) <- days_vector\n",
        "names(roulette_vector) <- days_vector\n",
        "\n",
        "# Calculate total gains for poker and roulette\n",
        "total_poker <- sum(poker_vector)\n",
        "total_roulette <- sum(roulette_vector)\n",
        "\n",
        "# Check if you realized higher total gains in poker than in roulette\n",
        "total_poker > total_roulette"
      ],
      "metadata": {
        "id": "BNb9rb2ZSK3w"
      },
      "execution_count": null,
      "outputs": []
    },
    {
      "cell_type": "code",
      "source": [
        "# Poker and roulette winnings from Monday to Friday:\n",
        "poker_vector <- c(140, -50, 20, -120, 240)\n",
        "roulette_vector <- c(-24, -50, 100, -350, 10)\n",
        "days_vector <- c(\"Monday\", \"Tuesday\", \"Wednesday\", \"Thursday\", \"Friday\")\n",
        "names(poker_vector) <- days_vector\n",
        "names(roulette_vector) <- days_vector\n",
        "\n",
        "# Define a new variable based on a selection\n",
        "poker_wednesday <- poker_vector[3]"
      ],
      "metadata": {
        "id": "rUm4jJQPS94H"
      },
      "execution_count": null,
      "outputs": []
    },
    {
      "cell_type": "code",
      "source": [
        "# Poker and roulette winnings from Monday to Friday:\n",
        "poker_vector <- c(140, -50, 20, -120, 240)\n",
        "roulette_vector <- c(-24, -50, 100, -350, 10)\n",
        "days_vector <- c(\"Monday\", \"Tuesday\", \"Wednesday\", \"Thursday\", \"Friday\")\n",
        "names(poker_vector) <- days_vector\n",
        "names(roulette_vector) <- days_vector\n",
        "\n",
        "# Define a new variable based on a selection\n",
        "poker_midweek <- poker_vector[c(2, 3, 4)]"
      ],
      "metadata": {
        "id": "HFk7rkGUS-Im"
      },
      "execution_count": null,
      "outputs": []
    },
    {
      "cell_type": "code",
      "source": [
        "# Poker and roulette winnings from Monday to Friday:\n",
        "poker_vector <- c(140, -50, 20, -120, 240)\n",
        "roulette_vector <- c(-24, -50, 100, -350, 10)\n",
        "days_vector <- c(\"Monday\", \"Tuesday\", \"Wednesday\", \"Thursday\", \"Friday\")\n",
        "names(poker_vector) <- days_vector\n",
        "names(roulette_vector) <- days_vector\n",
        "\n",
        "# Define a new variable based on a selection\n",
        "roulette_selection_vector <- roulette_vector[2:5]"
      ],
      "metadata": {
        "id": "kW174Ia8S-Rv"
      },
      "execution_count": null,
      "outputs": []
    },
    {
      "cell_type": "code",
      "source": [
        "# Poker and roulette winnings from Monday to Friday:\n",
        "poker_vector <- c(140, -50, 20, -120, 240)\n",
        "roulette_vector <- c(-24, -50, 100, -350, 10)\n",
        "days_vector <- c(\"Monday\", \"Tuesday\", \"Wednesday\", \"Thursday\", \"Friday\")\n",
        "names(poker_vector) <- days_vector\n",
        "names(roulette_vector) <- days_vector\n",
        "\n",
        "# Select poker results for Monday, Tuesday and Wednesday\n",
        "poker_start <- poker_vector[c(\"Monday\",\"Tuesday\",\"Wednesday\")]\n",
        "  \n",
        "# Calculate the average of the elements in poker_start\n",
        "mean(poker_start)"
      ],
      "metadata": {
        "id": "J6rx-K1FS-bH"
      },
      "execution_count": null,
      "outputs": []
    },
    {
      "cell_type": "code",
      "source": [
        "# Poker and roulette winnings from Monday to Friday:\n",
        "poker_vector <- c(140, -50, 20, -120, 240)\n",
        "roulette_vector <- c(-24, -50, 100, -350, 10)\n",
        "days_vector <- c(\"Monday\", \"Tuesday\", \"Wednesday\", \"Thursday\", \"Friday\")\n",
        "names(poker_vector) <- days_vector\n",
        "names(roulette_vector) <- days_vector\n",
        "\n",
        "# Which days did you make money on poker?\n",
        "selection_vector <- poker_vector > 0\n",
        "  \n",
        "# Print out selection_vector\n",
        "selection_vector"
      ],
      "metadata": {
        "id": "mv4gUteIT2e3"
      },
      "execution_count": null,
      "outputs": []
    },
    {
      "cell_type": "code",
      "source": [
        "# Poker and roulette winnings from Monday to Friday:\n",
        "poker_vector <- c(140, -50, 20, -120, 240)\n",
        "roulette_vector <- c(-24, -50, 100, -350, 10)\n",
        "days_vector <- c(\"Monday\", \"Tuesday\", \"Wednesday\", \"Thursday\", \"Friday\")\n",
        "names(poker_vector) <- days_vector\n",
        "names(roulette_vector) <- days_vector\n",
        "\n",
        "# Which days did you make money on poker?\n",
        "selection_vector <- poker_vector > 0\n",
        "\n",
        "# Select from poker_vector these days\n",
        "poker_winning_days <- poker_vector[selection_vector]"
      ],
      "metadata": {
        "id": "NEzbKRLrT2st"
      },
      "execution_count": null,
      "outputs": []
    },
    {
      "cell_type": "code",
      "source": [
        "# Poker and roulette winnings from Monday to Friday:\n",
        "poker_vector <- c(140, -50, 20, -120, 240)\n",
        "roulette_vector <- c(-24, -50, 100, -350, 10)\n",
        "days_vector <- c(\"Monday\", \"Tuesday\", \"Wednesday\", \"Thursday\", \"Friday\")\n",
        "names(poker_vector) <- days_vector\n",
        "names(roulette_vector) <- days_vector\n",
        "\n",
        "# Which days did you make money on roulette?\n",
        "selection_vector <- roulette_vector > 0\n",
        "\n",
        "# Select from roulette_vector these days\n",
        "roulette_winning_days <- roulette_vector[selection_vector]"
      ],
      "metadata": {
        "id": "Ekk076ftUN90"
      },
      "execution_count": null,
      "outputs": []
    },
    {
      "cell_type": "code",
      "source": [
        "# Construct a matrix with 3 rows that contain the numbers 1 up to 9\n",
        "matrix(1:9, byrow = TRUE, nrow = 3)"
      ],
      "metadata": {
        "id": "p73qpejDUOPE"
      },
      "execution_count": null,
      "outputs": []
    },
    {
      "cell_type": "code",
      "source": [
        "# Box office Star Wars (in millions!)\n",
        "new_hope <- c(460.998, 314.4)\n",
        "empire_strikes <- c(290.475, 247.900)\n",
        "return_jedi <- c(309.306, 165.8)\n",
        "\n",
        "# Create box_office\n",
        "box_office <- c(new_hope, empire_strikes, return_jedi)\n",
        "\n",
        "# Construct star_wars_matrix\n",
        "star_wars_matrix <- matrix(box_office, byrow = TRUE, nrow = 3) "
      ],
      "metadata": {
        "id": "EpQyszE8UOa0"
      },
      "execution_count": null,
      "outputs": []
    },
    {
      "cell_type": "code",
      "source": [
        "# Box office Star Wars (in millions!)\n",
        "new_hope <- c(460.998, 314.4)\n",
        "empire_strikes <- c(290.475, 247.900)\n",
        "return_jedi <- c(309.306, 165.8)\n",
        "\n",
        "# Construct matrix\n",
        "star_wars_matrix <- matrix(c(new_hope, empire_strikes, return_jedi), nrow = 3, byrow = TRUE)\n",
        "\n",
        "# Vectors region and titles, used for naming\n",
        "region <- c(\"US\", \"non-US\")\n",
        "titles <- c(\"A New Hope\", \"The Empire Strikes Back\", \"Return of the Jedi\")\n",
        "\n",
        "# Name the columns with region\n",
        "colnames(star_wars_matrix) <- region\n",
        "\n",
        "# Name the rows with titles\n",
        "rownames(star_wars_matrix) <- titles\n",
        "\n",
        "# Print out star_wars_matrix\n",
        "star_wars_matrix"
      ],
      "metadata": {
        "id": "0qyuRrXxUtB9"
      },
      "execution_count": null,
      "outputs": []
    },
    {
      "cell_type": "code",
      "source": [
        "# Construct star_wars_matrix\n",
        "box_office <- c(460.998, 314.4, 290.475, 247.900, 309.306, 165.8)\n",
        "region <- c(\"US\", \"non-US\")\n",
        "titles <- c(\"A New Hope\", \n",
        "                 \"The Empire Strikes Back\", \n",
        "                 \"Return of the Jedi\")\n",
        "               \n",
        "star_wars_matrix <- matrix(box_office, \n",
        "                      nrow = 3, byrow = TRUE,\n",
        "                      dimnames = list(titles, region))\n",
        "\n",
        "# Calculate worldwide box office figures\n",
        "worldwide_vector <- rowSums(star_wars_matrix)"
      ],
      "metadata": {
        "id": "LFHciWwoVDQM"
      },
      "execution_count": null,
      "outputs": []
    },
    {
      "cell_type": "code",
      "source": [
        "# Construct star_wars_matrix\n",
        "box_office <- c(460.998, 314.4, 290.475, 247.900, 309.306, 165.8)\n",
        "region <- c(\"US\", \"non-US\")\n",
        "titles <- c(\"A New Hope\", \n",
        "            \"The Empire Strikes Back\", \n",
        "            \"Return of the Jedi\")\n",
        "               \n",
        "star_wars_matrix <- matrix(box_office, \n",
        "                      nrow = 3, byrow = TRUE,\n",
        "                      dimnames = list(titles, region))\n",
        "\n",
        "# The worldwide box office figures\n",
        "worldwide_vector <- rowSums(star_wars_matrix)\n",
        "\n",
        "# Bind the new variable worldwide_vector as a column to star_wars_matrix\n",
        "all_wars_matrix <- cbind(star_wars_matrix, worldwide_vector)"
      ],
      "metadata": {
        "id": "KZczubPNVDpM"
      },
      "execution_count": null,
      "outputs": []
    },
    {
      "cell_type": "code",
      "source": [
        "# star_wars_matrix and star_wars_matrix2 are available in your workspace\n",
        "star_wars_matrix  \n",
        "star_wars_matrix2 \n",
        "\n",
        "# Combine both Star Wars trilogies in one matrix\n",
        "all_wars_matrix <- rbind(star_wars_matrix, star_wars_matrix2)"
      ],
      "metadata": {
        "id": "SYF1VMf1VD1t"
      },
      "execution_count": null,
      "outputs": []
    },
    {
      "cell_type": "code",
      "source": [
        "# all_wars_matrix is available in your workspace\n",
        "all_wars_matrix\n",
        "\n",
        "# Total revenue for US and non-US\n",
        "total_revenue_vector <-  colSums(all_wars_matrix)\n",
        "  \n",
        "# Print out total_revenue_vector\n",
        "total_revenue_vector"
      ],
      "metadata": {
        "id": "OAOqBwomVSdV"
      },
      "execution_count": null,
      "outputs": []
    },
    {
      "cell_type": "code",
      "source": [
        "# all_wars_matrix is available in your workspace\n",
        "all_wars_matrix\n",
        "\n",
        "# Select the non-US revenue for all movies\n",
        "non_us_all <- all_wars_matrix[,2]\n",
        "  \n",
        "# Average non-US revenue\n",
        "mean(non_us_all)\n",
        "  \n",
        "# Select the non-US revenue for first two movies\n",
        "non_us_some <- all_wars_matrix[1:2,2]\n",
        "  \n",
        "# Average non-US revenue for first two movies\n",
        "mean(non_us_some)"
      ],
      "metadata": {
        "id": "LHSV6zH5VSnb"
      },
      "execution_count": null,
      "outputs": []
    },
    {
      "cell_type": "code",
      "source": [
        "# all_wars_matrix is available in your workspace\n",
        "all_wars_matrix\n",
        "\n",
        "# Estimate the visitors\n",
        "visitors <- all_wars_matrix / 5\n",
        "  \n",
        "# Print the estimate to the console\n",
        "visitors"
      ],
      "metadata": {
        "id": "jr-xopo5VSzL"
      },
      "execution_count": null,
      "outputs": []
    },
    {
      "cell_type": "code",
      "source": [
        "# all_wars_matrix and ticket_prices_matrix are available in your workspace\n",
        "all_wars_matrix\n",
        "ticket_prices_matrix\n",
        "\n",
        "# Estimated number of visitors\n",
        "visitors <- all_wars_matrix / ticket_prices_matrix\n",
        "\n",
        "# US visitors\n",
        "us_visitors <- visitors[,1]\n",
        "\n",
        "# Average number of US visitors\n",
        "mean(us_visitors)"
      ],
      "metadata": {
        "id": "0DR0bROKWujC"
      },
      "execution_count": null,
      "outputs": []
    },
    {
      "cell_type": "code",
      "source": [
        "# Assign to the variable theory what this chapter is about!\n",
        "theory <- \"factors\""
      ],
      "metadata": {
        "id": "86uB7vauWugK"
      },
      "execution_count": null,
      "outputs": []
    },
    {
      "cell_type": "code",
      "source": [
        "# Sex vector\n",
        "sex_vector <- c(\"Male\", \"Female\", \"Female\", \"Male\", \"Male\")\n",
        "\n",
        "# Convert sex_vector to a factor\n",
        "factor_sex_vector <- factor(sex_vector)\n",
        "\n",
        "# Print out factor_sex_vector\n",
        "factor_sex_vector"
      ],
      "metadata": {
        "id": "-RsUXJJHWudL"
      },
      "execution_count": null,
      "outputs": []
    },
    {
      "cell_type": "code",
      "source": [
        "# Animals\n",
        "animals_vector <- c(\"Elephant\", \"Giraffe\", \"Donkey\", \"Horse\")\n",
        "factor_animals_vector <- factor(animals_vector)\n",
        "factor_animals_vector\n",
        "\n",
        "# Temperature\n",
        "temperature_vector <- c(\"High\", \"Low\", \"High\",\"Low\", \"Medium\")\n",
        "factor_temperature_vector <- factor(temperature_vector, order = TRUE, levels = c(\"Low\", \"Medium\", \"High\"))\n",
        "factor_temperature_vector"
      ],
      "metadata": {
        "id": "xHLsPfCzWuZD"
      },
      "execution_count": null,
      "outputs": []
    },
    {
      "cell_type": "code",
      "source": [
        "# Code to build factor_survey_vector\n",
        "survey_vector <- c(\"M\", \"F\", \"F\", \"M\", \"M\")\n",
        "factor_survey_vector <- factor(survey_vector)\n",
        "\n",
        "# Specify the levels of factor_survey_vector\n",
        "levels(factor_survey_vector) <- c(\"Female\",\"Male\")\n",
        "\n",
        "factor_survey_vector"
      ],
      "metadata": {
        "id": "VDB3i9_yWuT6"
      },
      "execution_count": null,
      "outputs": []
    },
    {
      "cell_type": "code",
      "source": [
        "# Build factor_survey_vector with clean levels\n",
        "survey_vector <- c(\"M\", \"F\", \"F\", \"M\", \"M\")\n",
        "factor_survey_vector <- factor(survey_vector)\n",
        "levels(factor_survey_vector) <- c(\"Female\", \"Male\")\n",
        "factor_survey_vector\n",
        "\n",
        "# Generate summary for survey_vector\n",
        "summary(survey_vector)\n",
        "\n",
        "# Generate summary for factor_survey_vector\n",
        "summary(factor_survey_vector)"
      ],
      "metadata": {
        "id": "9r68KwgAWuNc"
      },
      "execution_count": null,
      "outputs": []
    },
    {
      "cell_type": "code",
      "source": [
        "# Build factor_survey_vector with clean levels\n",
        "survey_vector <- c(\"M\", \"F\", \"F\", \"M\", \"M\")\n",
        "factor_survey_vector <- factor(survey_vector)\n",
        "levels(factor_survey_vector) <- c(\"Female\", \"Male\")\n",
        "\n",
        "# Male\n",
        "male <- factor_survey_vector[1]\n",
        "\n",
        "# Female\n",
        "female <- factor_survey_vector[2]\n",
        "\n",
        "# Battle of the sexes: Male 'larger' than female?\n",
        "male > female"
      ],
      "metadata": {
        "id": "6FZH4eNjWto6"
      },
      "execution_count": null,
      "outputs": []
    },
    {
      "cell_type": "code",
      "source": [
        "# Create speed_vector\n",
        "speed_vector <- c(\"medium\",\"slow\",\"slow\",\"medium\",\"fast\")"
      ],
      "metadata": {
        "id": "zzngc-cmYGHM"
      },
      "execution_count": null,
      "outputs": []
    },
    {
      "cell_type": "code",
      "source": [
        "# Create speed_vector\n",
        "speed_vector <- c(\"medium\", \"slow\", \"slow\", \"medium\", \"fast\")\n",
        "\n",
        "# Convert speed_vector to ordered factor vector\n",
        "factor_speed_vector <- factor(speed_vector,\n",
        "                                ordered=TRUE,\n",
        "                                c(\"slow\",\"medium\",\"fast\"))\n",
        "\n",
        "# Print factor_speed_vector\n",
        "factor_speed_vector\n",
        "summary(factor_speed_vector)"
      ],
      "metadata": {
        "id": "hWklOcUYYGDy"
      },
      "execution_count": null,
      "outputs": []
    },
    {
      "cell_type": "code",
      "source": [
        "# Create factor_speed_vector\n",
        "speed_vector <- c(\"medium\", \"slow\", \"slow\", \"medium\", \"fast\")\n",
        "factor_speed_vector <- factor(speed_vector, ordered = TRUE, levels = c(\"slow\", \"medium\", \"fast\"))\n",
        "\n",
        "# Factor value for second data analyst\n",
        "da2 <- factor_speed_vector[2]\n",
        "\n",
        "# Factor value for fifth data analyst\n",
        "da5 <- factor_speed_vector[5]\n",
        "\n",
        "# Is data analyst 2 faster than data analyst 5?\n",
        "da2 > da5"
      ],
      "metadata": {
        "id": "gXxtsZDSYGAx"
      },
      "execution_count": null,
      "outputs": []
    },
    {
      "cell_type": "code",
      "source": [
        "# Print out built-in R data frame\n",
        "mtcars"
      ],
      "metadata": {
        "id": "l_DChOBfYF-T"
      },
      "execution_count": null,
      "outputs": []
    },
    {
      "cell_type": "code",
      "source": [
        "# Call head() on mtcars\n",
        "head(mtcars)"
      ],
      "metadata": {
        "id": "7tQePFhVYF7j"
      },
      "execution_count": null,
      "outputs": []
    },
    {
      "cell_type": "code",
      "source": [
        "# Investigate the structure of mtcars\n",
        "str(mtcars)"
      ],
      "metadata": {
        "id": "gIww9BkFYF4x"
      },
      "execution_count": null,
      "outputs": []
    },
    {
      "cell_type": "code",
      "source": [
        "# Definition of vectors\n",
        "name <- c(\"Mercury\", \"Venus\", \"Earth\", \n",
        "          \"Mars\", \"Jupiter\", \"Saturn\", \n",
        "          \"Uranus\", \"Neptune\")\n",
        "type <- c(\"Terrestrial planet\", \n",
        "          \"Terrestrial planet\", \n",
        "          \"Terrestrial planet\", \n",
        "          \"Terrestrial planet\", \"Gas giant\", \n",
        "          \"Gas giant\", \"Gas giant\", \"Gas giant\")\n",
        "diameter <- c(0.382, 0.949, 1, 0.532, \n",
        "              11.209, 9.449, 4.007, 3.883)\n",
        "rotation <- c(58.64, -243.02, 1, 1.03, \n",
        "              0.41, 0.43, -0.72, 0.67)\n",
        "rings <- c(FALSE, FALSE, FALSE, FALSE, TRUE, TRUE, TRUE, TRUE)\n",
        "\n",
        "# Create a data frame from the vectors\n",
        "planets_df <- data.frame(name, type, diameter, rotation, rings)"
      ],
      "metadata": {
        "id": "nhe5ZfShWt3C"
      },
      "execution_count": null,
      "outputs": []
    },
    {
      "cell_type": "code",
      "source": [
        "# Check the structure of planets_df\n",
        "str(planets_df)"
      ],
      "metadata": {
        "id": "71ruF1MkaQIY"
      },
      "execution_count": null,
      "outputs": []
    },
    {
      "cell_type": "code",
      "source": [
        "# The planets_df data frame from the previous exercise is pre-loaded\n",
        "\n",
        "# Print out diameter of Mercury (row 1, column 3)\n",
        "planets_df[1,3]\n",
        "\n",
        "# Print out data for Mars (entire fourth row)\n",
        "planets_df[4,]"
      ],
      "metadata": {
        "id": "SOHSCXRUaQGM"
      },
      "execution_count": null,
      "outputs": []
    },
    {
      "cell_type": "code",
      "source": [
        "# The planets_df data frame from the previous exercise is pre-loaded\n",
        "\n",
        "# Select first 5 values of diameter column\n",
        "planets_df[1:5, \"diameter\"]"
      ],
      "metadata": {
        "id": "69iPKKAqaQD0"
      },
      "execution_count": null,
      "outputs": []
    },
    {
      "cell_type": "code",
      "source": [
        "# planets_df is pre-loaded in your workspace\n",
        "\n",
        "# Select the rings variable from planets_df\n",
        "rings_vector <- planets_df[,\"rings\"]\n",
        "  \n",
        "# Print out rings_vector\n",
        "rings_vector"
      ],
      "metadata": {
        "id": "fsYuHluDaQBY"
      },
      "execution_count": null,
      "outputs": []
    },
    {
      "cell_type": "code",
      "source": [
        "# planets_df and rings_vector are pre-loaded in your workspace\n",
        "\n",
        "# Adapt the code to select all columns for planets with rings\n",
        "planets_df[rings_vector,]"
      ],
      "metadata": {
        "id": "VFG9Lcl-aP_B"
      },
      "execution_count": null,
      "outputs": []
    },
    {
      "cell_type": "code",
      "source": [
        "# planets_df is pre-loaded in your workspace\n",
        "\n",
        "# Select planets with diameter < 1\n",
        "subset(planets_df, subset = diameter < 1)"
      ],
      "metadata": {
        "id": "Pi5DJSgLaP8P"
      },
      "execution_count": null,
      "outputs": []
    },
    {
      "cell_type": "code",
      "source": [
        "# Play around with the order function in the console\n",
        "order()"
      ],
      "metadata": {
        "id": "j3xoWmTZaP5i"
      },
      "execution_count": null,
      "outputs": []
    },
    {
      "cell_type": "code",
      "source": [
        "# planets_df is pre-loaded in your workspace\n",
        "\n",
        "# Use order() to create positions\n",
        "positions <- order(planets_df$diameter)\n",
        "\n",
        "# Use positions to sort planets_df\n",
        "planets_df[positions, ]"
      ],
      "metadata": {
        "id": "XH4D1YOEaP1_"
      },
      "execution_count": null,
      "outputs": []
    },
    {
      "cell_type": "code",
      "source": [
        "# Just submit the answer"
      ],
      "metadata": {
        "id": "yOhPiLMvaPy3"
      },
      "execution_count": null,
      "outputs": []
    },
    {
      "cell_type": "code",
      "source": [
        "# Just submit the answer to start the first exercise on lists."
      ],
      "metadata": {
        "id": "jLgYNpARedcd"
      },
      "execution_count": null,
      "outputs": []
    },
    {
      "cell_type": "code",
      "source": [
        "# Vector with numerics from 1 up to 10\n",
        "my_vector <- 1:10 \n",
        "\n",
        "# Matrix with numerics from 1 up to 9\n",
        "my_matrix <- matrix(1:9, ncol = 3)\n",
        "\n",
        "# First 10 elements of the built-in data frame mtcars\n",
        "my_df <- mtcars[1:10,]\n",
        "\n",
        "# Construct list with these different elements:\n",
        "my_list <- list(my_vector,my_matrix,my_df)"
      ],
      "metadata": {
        "id": "NvnRbMdnedZ8"
      },
      "execution_count": null,
      "outputs": []
    },
    {
      "cell_type": "code",
      "source": [
        "# Vector with numerics from 1 up to 10\n",
        "my_vector <- 1:10 \n",
        "\n",
        "# Matrix with numerics from 1 up to 9\n",
        "my_matrix <- matrix(1:9, ncol = 3)\n",
        "\n",
        "# First 10 elements of the built-in data frame mtcars\n",
        "my_df <- mtcars[1:10,]\n",
        "\n",
        "# Adapt list() call to give the components names\n",
        "my_list <- list(vec=my_vector,mat=my_matrix,df=my_df)\n",
        "\n",
        "# Print out my_list\n",
        "my_list"
      ],
      "metadata": {
        "id": "pm20rHo_edXj"
      },
      "execution_count": null,
      "outputs": []
    },
    {
      "cell_type": "code",
      "source": [
        "# The variables mov, act and rev are available\n",
        "\n",
        "# Finish the code to build shining_list\n",
        "shining_list <- list(moviename = mov, actors = act, reviews = rev)"
      ],
      "metadata": {
        "id": "XL2rFNX4edVF"
      },
      "execution_count": null,
      "outputs": []
    },
    {
      "cell_type": "code",
      "source": [
        "# shining_list is already pre-loaded in the workspace\n",
        "\n",
        "# Print out the vector representing the actors\n",
        "shining_list\n",
        "\n",
        "# Print the second element of the vector representing the actors\n",
        "shining_list$actors[2]"
      ],
      "metadata": {
        "id": "yY-LB8ooedST"
      },
      "execution_count": null,
      "outputs": []
    },
    {
      "cell_type": "code",
      "source": [
        "# Use the table from the exercise to define the comments and scores vectors\n",
        "scores <- c(4.6, 5, 4.8, 5,  4.2)\n",
        "comments <- c(\"I would watch it again\", \"Amazing!\", \"I liked it\", \"One of the best movies\", \"Fascinating plot\")\n",
        "\n",
        "# Save the average of the scores vector as avg_review\n",
        "avg_review <- mean(scores)\n",
        "\n",
        "# Combine scores and comments into the reviews_df data frame\n",
        "reviews_df <- data.frame(scores, comments)\n",
        "\n",
        "# Create and print out a list, called departed_list\n",
        "departed_list <- list(movie_title, movie_actors, reviews_df, avg_review)\n",
        "departed_list"
      ],
      "metadata": {
        "id": "Je0zbX1TedPj"
      },
      "execution_count": null,
      "outputs": []
    }
  ]
}