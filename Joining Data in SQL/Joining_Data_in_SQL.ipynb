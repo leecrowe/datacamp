{
  "nbformat": 4,
  "nbformat_minor": 0,
  "metadata": {
    "colab": {
      "name": "Joining Data in SQL.ipynb",
      "provenance": []
    },
    "kernelspec": {
      "name": "python3",
      "display_name": "Python 3"
    },
    "language_info": {
      "name": "python"
    }
  },
  "cells": [
    {
      "cell_type": "code",
      "execution_count": null,
      "metadata": {
        "id": "_NXXenwYt0uk"
      },
      "outputs": [],
      "source": [
        "SELECT *\n",
        "FROM cities;"
      ]
    },
    {
      "cell_type": "code",
      "source": [
        "-- Select name fields (with alias) and region \n",
        "SELECT cities.name AS city, countries.name AS country, region\n",
        "FROM cities\n",
        "  INNER JOIN countries\n",
        "    ON cities.country_code = countries.code;"
      ],
      "metadata": {
        "id": "uHbQBzAXujfi"
      },
      "execution_count": null,
      "outputs": []
    },
    {
      "cell_type": "code",
      "source": [
        "SELECT c.code AS country_code, c.name, e.year, e.inflation_rate\n",
        "FROM countries AS c\n",
        "INNER JOIN economies AS e\n",
        "ON c.code = e.code;"
      ],
      "metadata": {
        "id": "UP_Beblvujcy"
      },
      "execution_count": null,
      "outputs": []
    },
    {
      "cell_type": "code",
      "source": [
        "SELECT c.code, c.name, c.region, p.fertility_rate, p.year\n",
        "FROM countries AS c\n",
        "INNER JOIN populations AS p\n",
        "ON c.code = p.country_code;"
      ],
      "metadata": {
        "id": "VJJ_j3cwujaB"
      },
      "execution_count": null,
      "outputs": []
    },
    {
      "cell_type": "code",
      "source": [
        "-- Select fields\n",
        "SELECT c.name AS country, continent, l.name AS language, l.official\n",
        "  -- From countries (alias as c)\n",
        "FROM countries as c\n",
        "  -- Join to languages (as l)\n",
        "INNER JOIN languages as l\n",
        "    -- Match using code\n",
        "USING(code);"
      ],
      "metadata": {
        "id": "xvoSSxp-ujXi"
      },
      "execution_count": null,
      "outputs": []
    },
    {
      "cell_type": "code",
      "source": [
        "-- Select fields with aliases\n",
        "SELECT p1.country_code, \n",
        "       p1.size AS size2010,\n",
        "       p2.size AS size2015\n",
        "-- From populations (alias as p1)\n",
        "FROM populations as p1\n",
        "  -- Join to itself (alias as p2)\n",
        "INNER JOIN populations as p2\n",
        "    -- Match on country code\n",
        "ON p1.country_code = p2.country_code;"
      ],
      "metadata": {
        "id": "XcKnajQPujUi"
      },
      "execution_count": null,
      "outputs": []
    },
    {
      "cell_type": "code",
      "source": [
        "-- Select fields with aliases\n",
        "SELECT p1.country_code,\n",
        "       p1.size AS size2010,\n",
        "       p2.size AS size2015\n",
        "-- From populations (alias as p1)\n",
        "FROM populations as p1\n",
        "  -- Join to itself (alias as p2)\n",
        "INNER JOIN populations as p2\n",
        "    -- Match on country code\n",
        "ON p1.country_code = p2.country_code\n",
        "        -- and year (with calculation)\n",
        "AND p1.year = p2.year - 5; "
      ],
      "metadata": {
        "id": "9jiMr8njwaIQ"
      },
      "execution_count": null,
      "outputs": []
    },
    {
      "cell_type": "code",
      "source": [
        "-- Select fields with aliases\n",
        "SELECT p1.country_code,\n",
        "       p1.size AS size2010, \n",
        "       p2.size AS size2015,\n",
        "       -- Calculate growth_perc\n",
        "       ((p2.size - p1.size)/p1.size * 100.0) AS growth_perc\n",
        "-- From populations (alias as p1)\n",
        "FROM populations AS p1\n",
        "  -- Join to itself (alias as p2)\n",
        "  INNER JOIN populations AS p2\n",
        "    -- Match on country code\n",
        "    ON p1.country_code = p2.country_code\n",
        "        -- and year (with calculation)\n",
        "        AND p1.year = p2.year - 5;"
      ],
      "metadata": {
        "id": "9auH8GFpwaFx"
      },
      "execution_count": null,
      "outputs": []
    },
    {
      "cell_type": "code",
      "source": [
        "SELECT name, continent, code, surface_area,\n",
        "    -- First case\n",
        "    CASE WHEN surface_area > 2000000 THEN 'large'\n",
        "        -- Second case\n",
        "        WHEN surface_area > 350000 THEN 'medium'\n",
        "        -- Else clause + end\n",
        "        ELSE 'small' END\n",
        "        -- Alias name\n",
        "        AS geosize_group\n",
        "-- From table\n",
        "FROM countries;"
      ],
      "metadata": {
        "id": "DG8ewlUJwaDh"
      },
      "execution_count": null,
      "outputs": []
    },
    {
      "cell_type": "code",
      "source": [
        "SELECT country_code, size,\n",
        "    -- First case\n",
        "    CASE WHEN size > 50000000 THEN 'large'\n",
        "        -- Second case\n",
        "        WHEN size > 1000000 THEN 'medium'\n",
        "        -- Else clause + end\n",
        "        ELSE 'small' END\n",
        "        -- Alias name (popsize_group)\n",
        "        AS popsize_group\n",
        "-- From table\n",
        "FROM populations\n",
        "-- Focus on 2015\n",
        "WHERE year = 2015;"
      ],
      "metadata": {
        "id": "N_UtIUViwaA4"
      },
      "execution_count": null,
      "outputs": []
    },
    {
      "cell_type": "code",
      "source": [
        "SELECT country_code, size,\n",
        "    CASE WHEN size > 50000000 THEN 'large'\n",
        "        WHEN size > 1000000 THEN 'medium'\n",
        "        ELSE 'small' END\n",
        "        AS popsize_group\n",
        "-- Into table\n",
        "INTO pop_plus\n",
        "FROM populations\n",
        "WHERE year = 2015\n",
        "\n",
        "-- Select all columns of pop_plus\n",
        "SELECT *\n",
        "FROM pop_plus;"
      ],
      "metadata": {
        "id": "Rjck2HZEwZ-f"
      },
      "execution_count": null,
      "outputs": []
    },
    {
      "cell_type": "code",
      "source": [
        "SELECT country_code, size,\n",
        "  CASE WHEN size > 50000000\n",
        "            THEN 'large'\n",
        "       WHEN size > 1000000\n",
        "            THEN 'medium'\n",
        "       ELSE 'small' END\n",
        "       AS popsize_group\n",
        "INTO pop_plus       \n",
        "FROM populations as p\n",
        "WHERE p.year = 2015;\n",
        "\n",
        "-- Select fields\n",
        "SELECT c.name, c.continent, c.geosize_group, p.popsize_group\n",
        "-- From countries_plus (alias as c)\n",
        "FROM countries_plus as c\n",
        "  -- Join to pop_plus (alias as p)\n",
        "INNER JOIN pop_plus as p\n",
        "    -- Match on country code\n",
        "ON c.code = p.country_code\n",
        "-- Order the table    \n",
        "ORDER BY geosize_group;"
      ],
      "metadata": {
        "id": "yv51TtFJy4Rd"
      },
      "execution_count": null,
      "outputs": []
    }
  ]
}