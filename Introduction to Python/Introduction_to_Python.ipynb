{
  "nbformat": 4,
  "nbformat_minor": 0,
  "metadata": {
    "colab": {
      "name": "Introduction to Python.ipynb",
      "provenance": []
    },
    "kernelspec": {
      "name": "python3",
      "display_name": "Python 3"
    },
    "language_info": {
      "name": "python"
    }
  },
  "cells": [
    {
      "cell_type": "code",
      "execution_count": null,
      "metadata": {
        "id": "KjfEz_3WHYX0"
      },
      "outputs": [],
      "source": [
        "# Example, do not modify!\n",
        "print(7 + 10)\n",
        "\n",
        "# Print the sum of 7 and 10\n",
        "print(7+10)"
      ]
    },
    {
      "cell_type": "code",
      "source": [
        "# Division\n",
        "print(5 / 8)\n",
        "\n",
        "# Addition\n",
        "print(7 + 10)"
      ],
      "metadata": {
        "id": "Ui7lgq9ZHfdC"
      },
      "execution_count": null,
      "outputs": []
    },
    {
      "cell_type": "code",
      "source": [
        "# Addition, subtraction\n",
        "print(5 + 5)\n",
        "print(5 - 5)\n",
        "\n",
        "# Multiplication, division, modulo, and exponentiation\n",
        "print(3 * 5)\n",
        "print(10 / 2)\n",
        "print(18 % 7)\n",
        "print(4 ** 2)\n",
        "\n",
        "# How much is your $100 worth after 7 years?\n",
        "print(100 * 1.1 ** 7)"
      ],
      "metadata": {
        "id": "zX_nxEzqHfaL"
      },
      "execution_count": null,
      "outputs": []
    },
    {
      "cell_type": "code",
      "source": [
        "# Create a variable savings\n",
        "savings = 100\n",
        "\n",
        "# Print out savings\n",
        "print(savings)"
      ],
      "metadata": {
        "id": "_LSeUW2wHfXL"
      },
      "execution_count": null,
      "outputs": []
    },
    {
      "cell_type": "code",
      "source": [
        "# Create a variable savings\n",
        "savings = 100\n",
        "\n",
        "# Create a variable growth_multiplier\n",
        "growth_multiplier = 1.1\n",
        "\n",
        "# Calculate result\n",
        "result = savings * growth_multiplier ** 7\n",
        "\n",
        "# Print out result\n",
        "print(result)"
      ],
      "metadata": {
        "id": "Fwf1pyQyHfUi"
      },
      "execution_count": null,
      "outputs": []
    },
    {
      "cell_type": "code",
      "source": [
        "# Create a variable desc\n",
        "desc = \"compound interest\"\n",
        "\n",
        "# Create a variable profitable\n",
        "profitable = True"
      ],
      "metadata": {
        "id": "b3l3v2qSHfRr"
      },
      "execution_count": null,
      "outputs": []
    },
    {
      "cell_type": "code",
      "source": [
        "savings = 100\n",
        "growth_multiplier = 1.1\n",
        "desc = \"compound interest\"\n",
        "\n",
        "# Assign product of savings and growth_multiplier to year1\n",
        "year1 = savings * growth_multiplier\n",
        "\n",
        "# Print the type of year1\n",
        "print(type(year1))\n",
        "\n",
        "# Assign sum of desc and desc to doubledesc\n",
        "doubledesc = desc + desc\n",
        "\n",
        "# Print out doubledesc\n",
        "print(doubledesc)"
      ],
      "metadata": {
        "id": "HO71GMmqHxtE"
      },
      "execution_count": null,
      "outputs": []
    },
    {
      "cell_type": "code",
      "source": [
        "# Definition of savings and result\n",
        "savings = 100\n",
        "result = 100 * 1.10 ** 7\n",
        "\n",
        "# Fix the printout\n",
        "print(\"I started with $\" + str(savings) + \" and now have $\" + str(result) + \". Awesome!\")\n",
        "\n",
        "# Definition of pi_string\n",
        "pi_string = \"3.1415926\"\n",
        "\n",
        "# Convert pi_string into float: pi_float\n",
        "pi_float = float(pi_string)"
      ],
      "metadata": {
        "id": "YVmvjSS_IHWK"
      },
      "execution_count": null,
      "outputs": []
    },
    {
      "cell_type": "code",
      "source": [
        "# area variables (in square meters)\n",
        "hall = 11.25\n",
        "kit = 18.0\n",
        "liv = 20.0\n",
        "bed = 10.75\n",
        "bath = 9.50\n",
        "\n",
        "# Create list areas\n",
        "areas = [hall, kit, liv, bed, bath]\n",
        "\n",
        "# Print areas\n",
        "print(areas)"
      ],
      "metadata": {
        "id": "OnMTVejlIHTi"
      },
      "execution_count": null,
      "outputs": []
    },
    {
      "cell_type": "code",
      "source": [
        "# area variables (in square meters)\n",
        "hall = 11.25\n",
        "kit = 18.0\n",
        "liv = 20.0\n",
        "bed = 10.75\n",
        "bath = 9.50\n",
        "\n",
        "# Adapt list areas\n",
        "areas = [\"hallway\", hall, \"kitchen\", kit, \"living room\", liv, \"bedroom\", bed, \"bathroom\", bath]\n",
        "\n",
        "# Print areas\n",
        "print(areas)"
      ],
      "metadata": {
        "id": "_cazXHu9IdvK"
      },
      "execution_count": null,
      "outputs": []
    },
    {
      "cell_type": "code",
      "source": [
        "# area variables (in square meters)\n",
        "hall = 11.25\n",
        "kit = 18.0\n",
        "liv = 20.0\n",
        "bed = 10.75\n",
        "bath = 9.50\n",
        "\n",
        "# house information as list of lists\n",
        "house = [[\"hallway\", hall],\n",
        "         [\"kitchen\", kit],\n",
        "         [\"living room\", liv],\n",
        "         [\"bedroom\", bed],\n",
        "         [\"bathroom\", bath]]\n",
        "\n",
        "# Print out house\n",
        "print(house)\n",
        "\n",
        "# Print out the type of house\n",
        "print(type(house))"
      ],
      "metadata": {
        "id": "0yqsVSDEIdsh"
      },
      "execution_count": null,
      "outputs": []
    },
    {
      "cell_type": "code",
      "source": [
        "# Create the areas list\n",
        "areas = [\"hallway\", 11.25, \"kitchen\", 18.0, \"living room\", 20.0, \"bedroom\", 10.75, \"bathroom\", 9.50]\n",
        "\n",
        "# Print out second element from areas\n",
        "print(areas[1])\n",
        "\n",
        "# Print out last element from areas\n",
        "print(areas[-1])\n",
        "\n",
        "# Print out the area of the living room\n",
        "print(areas[5])"
      ],
      "metadata": {
        "id": "LIHOGBH_Idnh"
      },
      "execution_count": null,
      "outputs": []
    },
    {
      "cell_type": "code",
      "source": [
        "# Create the areas list\n",
        "areas = [\"hallway\", 11.25, \"kitchen\", 18.0, \"living room\", 20.0, \"bedroom\", 10.75, \"bathroom\", 9.50]\n",
        "\n",
        "# Sum of kitchen and bedroom area: eat_sleep_area\n",
        "eat_sleep_area = areas[3] + areas[-3]\n",
        "\n",
        "# Print the variable eat_sleep_area\n",
        "print(eat_sleep_area)"
      ],
      "metadata": {
        "id": "NWHMZFmDIdlJ"
      },
      "execution_count": null,
      "outputs": []
    },
    {
      "cell_type": "code",
      "source": [
        "# Create the areas list\n",
        "areas = [\"hallway\", 11.25, \"kitchen\", 18.0, \"living room\", 20.0, \"bedroom\", 10.75, \"bathroom\", 9.50]\n",
        "\n",
        "# Use slicing to create downstairs\n",
        "downstairs = areas[0:6]\n",
        "\n",
        "# Use slicing to create upstairs\n",
        "upstairs = areas[6:10]\n",
        "\n",
        "# Print out downstairs and upstairs\n",
        "print(downstairs)\n",
        "print(upstairs)"
      ],
      "metadata": {
        "id": "c-IkUXG0IdiZ"
      },
      "execution_count": null,
      "outputs": []
    },
    {
      "cell_type": "code",
      "source": [
        "# Create the areas list\n",
        "areas = [\"hallway\", 11.25, \"kitchen\", 18.0, \"living room\", 20.0, \"bedroom\", 10.75, \"bathroom\", 9.50]\n",
        "\n",
        "# Alternative slicing to create downstairs\n",
        "downstairs = areas[:6]\n",
        "\n",
        "# Alternative slicing to create upstairs\n",
        "upstairs = areas[6:]"
      ],
      "metadata": {
        "id": "wbynhsmKIdf7"
      },
      "execution_count": null,
      "outputs": []
    },
    {
      "cell_type": "code",
      "source": [
        "# Create the areas list\n",
        "areas = [\"hallway\", 11.25, \"kitchen\", 18.0, \"living room\", 20.0, \"bedroom\", 10.75, \"bathroom\", 9.50]\n",
        "\n",
        "# Correct the bathroom area\n",
        "areas[-1] = 10.50\n",
        "\n",
        "# Change \"living room\" to \"chill zone\"\n",
        "areas[4] = \"chill zone\""
      ],
      "metadata": {
        "id": "zETQjjvaHxqj"
      },
      "execution_count": null,
      "outputs": []
    },
    {
      "cell_type": "code",
      "source": [
        "# Create the areas list (updated version)\n",
        "areas = [\"hallway\", 11.25, \"kitchen\", 18.0, \"chill zone\", 20.0,\n",
        "         \"bedroom\", 10.75, \"bathroom\", 10.50]\n",
        "\n",
        "# Add poolhouse data to areas, new list is areas_1\n",
        "areas_1 = areas + [\"poolhouse\", 24.5]\n",
        "\n",
        "# Add garage data to areas_1, new list is areas_2\n",
        "areas_2 = areas_1 + [\"garage\", 15.45]"
      ],
      "metadata": {
        "id": "1QRtyT2QHxn6"
      },
      "execution_count": null,
      "outputs": []
    },
    {
      "cell_type": "code",
      "source": [
        "# Create list areas\n",
        "areas = [11.25, 18.0, 20.0, 10.75, 9.50]\n",
        "\n",
        "# Create areas_copy\n",
        "areas_copy = list(areas)\n",
        "\n",
        "# Change areas_copy\n",
        "areas_copy[0] = 5.0\n",
        "\n",
        "# Print areas\n",
        "print(areas)"
      ],
      "metadata": {
        "id": "SIFDRS4hJTOw"
      },
      "execution_count": null,
      "outputs": []
    },
    {
      "cell_type": "code",
      "source": [
        "# Create variables var1 and var2\n",
        "var1 = [1, 2, 3, 4]\n",
        "var2 = True\n",
        "\n",
        "# Print out type of var1\n",
        "print(type(var1))\n",
        "\n",
        "# Print out length of var1\n",
        "print(len(var1))\n",
        "\n",
        "# Convert var2 to an integer: out2\n",
        "out2 = int(var2)"
      ],
      "metadata": {
        "id": "OsAu7GLBJTG5"
      },
      "execution_count": null,
      "outputs": []
    },
    {
      "cell_type": "code",
      "source": [
        "# Create lists first and second\n",
        "first = [11.25, 18.0, 20.0]\n",
        "second = [10.75, 9.50]\n",
        "\n",
        "# Paste together first and second: full\n",
        "full = first + second\n",
        "\n",
        "# Sort full in descending order: full_sorted\n",
        "full_sorted = sorted(full, reverse = True)\n",
        "\n",
        "# Print out full_sorted\n",
        "print(full_sorted)"
      ],
      "metadata": {
        "id": "K_7M8DSGJnTx"
      },
      "execution_count": null,
      "outputs": []
    },
    {
      "cell_type": "code",
      "source": [
        "# string to experiment with: place\n",
        "place = \"poolhouse\"\n",
        "\n",
        "# Use upper() on place: place_up\n",
        "place_up = place.upper()\n",
        "\n",
        "# Print out place and place_up\n",
        "print(place)\n",
        "print(place_up)\n",
        "\n",
        "# Print out the number of o's in place\n",
        "print(place.count('o'))"
      ],
      "metadata": {
        "id": "GWcKO23fJnQw"
      },
      "execution_count": null,
      "outputs": []
    },
    {
      "cell_type": "code",
      "source": [
        "# Create list areas\n",
        "areas = [11.25, 18.0, 20.0, 10.75, 9.50]\n",
        "\n",
        "# Print out the index of the element 20.0\n",
        "print(areas.index(20.0))\n",
        "\n",
        "# Print out how often 9.50 appears in areas\n",
        "print(areas.count(9.50))"
      ],
      "metadata": {
        "id": "Sxb46cZLJnOf"
      },
      "execution_count": null,
      "outputs": []
    },
    {
      "cell_type": "code",
      "source": [
        "# Create list areas\n",
        "areas = [11.25, 18.0, 20.0, 10.75, 9.50]\n",
        "\n",
        "# Use append twice to add poolhouse and garage size\n",
        "areas.append(24.5)\n",
        "areas.append(15.45)\n",
        "\n",
        "# Print out areas\n",
        "print(areas)\n",
        "\n",
        "# Reverse the orders of the elements in areas\n",
        "areas.reverse()\n",
        "\n",
        "# Print out areas\n",
        "print(areas)"
      ],
      "metadata": {
        "id": "6ByUElU8JnLo"
      },
      "execution_count": null,
      "outputs": []
    },
    {
      "cell_type": "code",
      "source": [
        "# Definition of radius\n",
        "r = 0.43\n",
        "\n",
        "# Import the math package\n",
        "import math\n",
        "\n",
        "# Calculate C\n",
        "C = 2 * r * math.pi\n",
        "\n",
        "# Calculate A\n",
        "A = math.pi * r ** 2\n",
        "\n",
        "# Build printout\n",
        "print(\"Circumference: \" + str(C))\n",
        "print(\"Area: \" + str(A))"
      ],
      "metadata": {
        "id": "jc-M_MFUJTEB"
      },
      "execution_count": null,
      "outputs": []
    },
    {
      "cell_type": "code",
      "source": [
        "# Definition of radius\n",
        "r = 192500\n",
        "\n",
        "# Import radians function of math package\n",
        "from math import radians\n",
        "\n",
        "# Travel distance of Moon over 12 degrees. Store in dist.\n",
        "dist = r * radians(12)\n",
        "\n",
        "# Print out dist\n",
        "print(dist)"
      ],
      "metadata": {
        "id": "_aML70LgJ5Zp"
      },
      "execution_count": null,
      "outputs": []
    },
    {
      "cell_type": "code",
      "source": [
        "# Create list baseball\n",
        "baseball = [180, 215, 210, 210, 188, 176, 209, 200]\n",
        "\n",
        "# Import the numpy package as np\n",
        "import numpy as np\n",
        "\n",
        "# Create a Numpy array from baseball: np_baseball\n",
        "np_baseball = np.array(baseball)\n",
        "\n",
        "# Print out type of np_baseball\n",
        "print(type(np_baseball))"
      ],
      "metadata": {
        "id": "V_To2zClJ5Wv"
      },
      "execution_count": null,
      "outputs": []
    },
    {
      "cell_type": "code",
      "source": [
        "# height_in is available as a regular list\n",
        "\n",
        "# Import numpy\n",
        "import numpy as np\n",
        "\n",
        "# Create a numpy array from height_in: np_height_in\n",
        "np_height_in = np.array(height_in)\n",
        "\n",
        "# Print out np_height_in\n",
        "print(np_height_in)\n",
        "\n",
        "# Convert np_height_in to m: np_height_m\n",
        "np_height_m = np_height_in * 0.0254\n",
        "\n",
        "# Print np_height_m\n",
        "print(np_height_m)"
      ],
      "metadata": {
        "id": "BWhzIeOZKCBR"
      },
      "execution_count": null,
      "outputs": []
    },
    {
      "cell_type": "code",
      "source": [
        "# height_in and weight_lb are available as regular lists\n",
        "\n",
        "# Import numpy\n",
        "import numpy as np\n",
        "\n",
        "# Create array from height_in with metric units: np_height_m\n",
        "np_height_m = np.array(height_in) * 0.0254\n",
        "\n",
        "# Create array from weight_lb with metric units: np_weight_kg\n",
        "np_weight_kg = np.array(weight_lb) * 0.453592\n",
        "\n",
        "# Calculate the BMI: bmi\n",
        "bmi = np_weight_kg / np_height_m ** 2\n",
        "\n",
        "# Print out bmi\n",
        "print(bmi)"
      ],
      "metadata": {
        "id": "Xu-drY50KB-x"
      },
      "execution_count": null,
      "outputs": []
    },
    {
      "cell_type": "code",
      "source": [
        "# height_in and weight_lb are available as a regular lists\n",
        "\n",
        "# Import numpy\n",
        "import numpy as np\n",
        "\n",
        "# Calculate the BMI: bmi\n",
        "np_height_m = np.array(height_in) * 0.0254\n",
        "np_weight_kg = np.array(weight_lb) * 0.453592\n",
        "bmi = np_weight_kg / np_height_m ** 2\n",
        "\n",
        "# Create the light array\n",
        "light = bmi < 21\n",
        "\n",
        "# Print out light\n",
        "print(light)\n",
        "\n",
        "# Print out BMIs of all baseball players whose BMI is below 21\n",
        "print(bmi[light])"
      ],
      "metadata": {
        "id": "pTpqd2p0KB8A"
      },
      "execution_count": null,
      "outputs": []
    },
    {
      "cell_type": "code",
      "source": [
        "# height_in and weight_lb are available as a regular lists\n",
        "\n",
        "# Import numpy\n",
        "import numpy as np\n",
        "\n",
        "# Store weight and height lists as numpy arrays\n",
        "np_weight_lb = np.array(weight_lb)\n",
        "np_height_in = np.array(height_in)\n",
        "\n",
        "# Print out the weight at index 50\n",
        "print(np_weight_lb[50])\n",
        "\n",
        "# Print out sub-array of np_height_in: index 100 up to and including index 110\n",
        "print(np_height_in[100:111])"
      ],
      "metadata": {
        "id": "vLo_TkATKB5B"
      },
      "execution_count": null,
      "outputs": []
    },
    {
      "cell_type": "code",
      "source": [
        "# Create baseball, a list of lists\n",
        "baseball = [[180, 78.4],\n",
        "            [215, 102.7],\n",
        "            [210, 98.5],\n",
        "            [188, 75.2]]\n",
        "\n",
        "# Import numpy\n",
        "import numpy as np\n",
        "\n",
        "# Create a 2D numpy array from baseball: np_baseball\n",
        "np_baseball = np.array(baseball)\n",
        "\n",
        "# Print out the type of np_baseball\n",
        "print(type(np_baseball))\n",
        "\n",
        "# Print out the shape of np_baseball\n",
        "print(np_baseball.shape)"
      ],
      "metadata": {
        "id": "Xq-cIWCUKB2X"
      },
      "execution_count": null,
      "outputs": []
    },
    {
      "cell_type": "code",
      "source": [
        "# baseball is available as a regular list of lists\n",
        "\n",
        "# Import numpy package\n",
        "import numpy as np\n",
        "\n",
        "# Create a 2D numpy array from baseball: np_baseball\n",
        "np_baseball = np.array(baseball)\n",
        "\n",
        "# Print out the shape of np_baseball\n",
        "print(np_baseball.shape)"
      ],
      "metadata": {
        "id": "jeJ2Q3qKJ5Uo"
      },
      "execution_count": null,
      "outputs": []
    },
    {
      "cell_type": "code",
      "source": [
        "# baseball is available as a regular list of lists\n",
        "\n",
        "# Import numpy package\n",
        "import numpy as np\n",
        "\n",
        "# Create np_baseball (2 cols)\n",
        "np_baseball = np.array(baseball)\n",
        "\n",
        "# Print out the 50th row of np_baseball\n",
        "print(np_baseball[49,:])\n",
        "\n",
        "# Select the entire second column of np_baseball: np_weight_lb\n",
        "np_weight_lb = np_baseball[:,1]\n",
        "\n",
        "# Print out height of 124th player\n",
        "print(np_baseball[123, 0])"
      ],
      "metadata": {
        "id": "TTqYpSruHfPK"
      },
      "execution_count": null,
      "outputs": []
    },
    {
      "cell_type": "code",
      "source": [
        "# baseball is available as a regular list of lists\n",
        "# updated is available as 2D numpy array\n",
        "\n",
        "# Import numpy package\n",
        "import numpy as np\n",
        "\n",
        "# Create np_baseball (3 cols)\n",
        "np_baseball = np.array(baseball)\n",
        "\n",
        "# Print out addition of np_baseball and updated\n",
        "print(np_baseball + updated)\n",
        "\n",
        "# Create numpy array: conversion\n",
        "conversion = np.array([0.0254, 0.453592, 1])\n",
        "\n",
        "# Print out product of np_baseball and conversion\n",
        "print(np_baseball * conversion)"
      ],
      "metadata": {
        "id": "lr10wwK8Kis2"
      },
      "execution_count": null,
      "outputs": []
    },
    {
      "cell_type": "code",
      "source": [
        "# np_baseball is available\n",
        "\n",
        "# Import numpy\n",
        "import numpy as np\n",
        "\n",
        "# Create np_height_in from np_baseball\n",
        "np_height_in = np_baseball[:,0]\n",
        "\n",
        "# Print out the mean of np_height_in\n",
        "print(np.mean(np_height_in))\n",
        "\n",
        "# Print out the median of np_height_in\n",
        "print(np.median(np_height_in))"
      ],
      "metadata": {
        "id": "LLU3_gI1Kip-"
      },
      "execution_count": null,
      "outputs": []
    },
    {
      "cell_type": "code",
      "source": [
        "# np_baseball is available\n",
        "\n",
        "# Import numpy\n",
        "import numpy as np\n",
        "\n",
        "# Print mean height (first column)\n",
        "avg = np.mean(np_baseball[:,0])\n",
        "print(\"Average: \" + str(avg))\n",
        "\n",
        "# Print median height. Replace 'None'\n",
        "med = np.median(np_baseball[:,0])\n",
        "print(\"Median: \" + str(med))\n",
        "\n",
        "# Print out the standard deviation on height. Replace 'None'\n",
        "stddev = np.std(np_baseball[:,0])\n",
        "print(\"Standard Deviation: \" + str(stddev))\n",
        "\n",
        "# Print out correlation between first and second column. Replace 'None'\n",
        "corr = np.corrcoef(np_baseball[:,0], np_baseball[:,1])\n",
        "print(\"Correlation: \" + str(corr))"
      ],
      "metadata": {
        "id": "Rrgvqs1LKinO"
      },
      "execution_count": null,
      "outputs": []
    },
    {
      "cell_type": "code",
      "source": [
        "# heights and positions are available as lists\n",
        "\n",
        "# Import numpy\n",
        "import numpy as np\n",
        "\n",
        "# Convert positions and heights to numpy arrays: np_positions, np_heights\n",
        "np_positions = np.array(positions)\n",
        "np_heights = np.array(heights)\n",
        "\n",
        "# Heights of the goalkeepers: gk_heights\n",
        "gk_heights = np_heights[np_positions == 'GK']\n",
        "\n",
        "# Heights of the other players: other_heights\n",
        "other_heights = np_heights[np_positions != 'GK']\n",
        "\n",
        "# Print out the median height of goalkeepers. Replace 'None'\n",
        "print(\"Median height of goalkeepers: \" + str(np.median(gk_heights)))\n",
        "\n",
        "# Print out the median height of other players. Replace 'None'\n",
        "print(\"Median height of other players: \" + str(np.median(other_heights)))"
      ],
      "metadata": {
        "id": "YY2aDWpYHfKC"
      },
      "execution_count": null,
      "outputs": []
    }
  ]
}